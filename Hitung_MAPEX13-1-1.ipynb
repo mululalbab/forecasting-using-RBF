{
 "cells": [
  {
   "cell_type": "code",
   "execution_count": 11,
   "metadata": {},
   "outputs": [],
   "source": [
    "import pandas as pd\n",
    "import time\n",
    "import numpy as np"
   ]
  },
  {
   "cell_type": "code",
   "execution_count": 16,
   "metadata": {},
   "outputs": [
    {
     "name": "stdout",
     "output_type": "stream",
     "text": [
      "[[28.09]\n",
      " [27.94]\n",
      " [28.38]\n",
      " [28.61]\n",
      " [28.76]\n",
      " [28.02]\n",
      " [27.73]\n",
      " [28.02]\n",
      " [29.13]\n",
      " [30.39]\n",
      " [28.93]\n",
      " [28.55]]\n"
     ]
    }
   ],
   "source": [
    "a= [[28.09],\n",
    " [27.94],\n",
    " [28.38],\n",
    " [28.61],\n",
    " [28.76],\n",
    " [28.02],\n",
    " [27.73],\n",
    " [28.02],\n",
    " [29.13],\n",
    " [30.39],\n",
    " [28.93],\n",
    " [28.55]]\n",
    "dayu = np.vstack(a)\n",
    "print(dayu)"
   ]
  },
  {
   "cell_type": "code",
   "execution_count": 17,
   "metadata": {},
   "outputs": [
    {
     "name": "stdout",
     "output_type": "stream",
     "text": [
      "[[28.895172]\n",
      " [29.101465]\n",
      " [29.079388]\n",
      " [28.753696]\n",
      " [28.23332 ]\n",
      " [28.260191]\n",
      " [28.23428 ]\n",
      " [29.231924]\n",
      " [28.379076]\n",
      " [27.988533]\n",
      " [28.03699 ]\n",
      " [28.229603]]\n"
     ]
    }
   ],
   "source": [
    "b = [[28.895172],\n",
    " [29.101465],\n",
    " [29.079388],\n",
    " [28.753696],\n",
    " [28.23332 ],\n",
    " [28.260191],\n",
    " [28.23428 ],\n",
    " [29.231924],\n",
    " [28.379076],\n",
    " [27.988533],\n",
    " [28.03699 ],\n",
    " [28.229603]]\n",
    "denormalize_ayu = np.vstack(b)\n",
    "print(denormalize_ayu)"
   ]
  },
  {
   "cell_type": "code",
   "execution_count": 18,
   "metadata": {},
   "outputs": [
    {
     "name": "stdout",
     "output_type": "stream",
     "text": [
      "[[28.09     28.895172]\n",
      " [27.94     29.101465]\n",
      " [28.38     29.079388]\n",
      " [28.61     28.753696]\n",
      " [28.76     28.23332 ]\n",
      " [28.02     28.260191]\n",
      " [27.73     28.23428 ]\n",
      " [28.02     29.231924]\n",
      " [29.13     28.379076]\n",
      " [30.39     27.988533]\n",
      " [28.93     28.03699 ]\n",
      " [28.55     28.229603]]\n"
     ]
    }
   ],
   "source": [
    "(m,n)    = np.shape(dayu)\n",
    "gabung   = np.array(np.zeros([m,2]))\n",
    "gabung[:,0]= dayu[:,0]\n",
    "gabung[:,1]= denormalize_ayu[:,0]\n",
    "print(gabung)"
   ]
  },
  {
   "cell_type": "code",
   "execution_count": 19,
   "metadata": {},
   "outputs": [
    {
     "data": {
      "text/plain": [
       "array([[0.02866401],\n",
       "       [0.04156997],\n",
       "       [0.02464369],\n",
       "       [0.00502258],\n",
       "       [0.01831293],\n",
       "       [0.00857213],\n",
       "       [0.01818536],\n",
       "       [0.04325211],\n",
       "       [0.02577837],\n",
       "       [0.07902162],\n",
       "       [0.03086796],\n",
       "       [0.01122231]])"
      ]
     },
     "execution_count": 19,
     "metadata": {},
     "output_type": "execute_result"
    }
   ],
   "source": [
    "aaa = np.absolute(dayu - denormalize_ayu)/dayu\n",
    "aaa"
   ]
  },
  {
   "cell_type": "code",
   "execution_count": 24,
   "metadata": {},
   "outputs": [
    {
     "data": {
      "text/plain": [
       "0.3351130389465899"
      ]
     },
     "execution_count": 24,
     "metadata": {},
     "output_type": "execute_result"
    }
   ],
   "source": [
    "np.sum(np.absolute(dayu - denormalize_ayu)/dayu)"
   ]
  },
  {
   "cell_type": "code",
   "execution_count": 22,
   "metadata": {},
   "outputs": [
    {
     "data": {
      "text/plain": [
       "0.02792608657888249"
      ]
     },
     "execution_count": 22,
     "metadata": {},
     "output_type": "execute_result"
    }
   ],
   "source": [
    "np.sum(np.absolute(dayu - denormalize_ayu)/dayu)/12"
   ]
  },
  {
   "cell_type": "code",
   "execution_count": 23,
   "metadata": {},
   "outputs": [
    {
     "data": {
      "text/plain": [
       "2.792608657888249"
      ]
     },
     "execution_count": 23,
     "metadata": {},
     "output_type": "execute_result"
    }
   ],
   "source": [
    "(np.sum(np.absolute(dayu - denormalize_ayu)/dayu)/12)*100"
   ]
  }
 ],
 "metadata": {
  "kernelspec": {
   "display_name": "Python 3",
   "language": "python",
   "name": "python3"
  },
  "language_info": {
   "codemirror_mode": {
    "name": "ipython",
    "version": 3
   },
   "file_extension": ".py",
   "mimetype": "text/x-python",
   "name": "python",
   "nbconvert_exporter": "python",
   "pygments_lexer": "ipython3",
   "version": "3.6.4"
  }
 },
 "nbformat": 4,
 "nbformat_minor": 2
}
