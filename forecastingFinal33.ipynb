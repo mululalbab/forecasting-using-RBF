{
 "cells": [
  {
   "cell_type": "code",
   "execution_count": 1,
   "metadata": {},
   "outputs": [],
   "source": [
    "# Load Data Target\n",
    "import pandas as pd\n",
    "import time\n",
    "import numpy as np\n",
    "ds = pd.read_csv(\"dataset60.csv\")\n"
   ]
  },
  {
   "cell_type": "code",
   "execution_count": 2,
   "metadata": {},
   "outputs": [],
   "source": [
    "data = pd.read_csv(\"dataset60.csv\", header = None, names = [\"X1\", \"X2\", \"X3\", \"Y\"])\n"
   ]
  },
  {
   "cell_type": "code",
   "execution_count": 3,
   "metadata": {},
   "outputs": [],
   "source": [
    "dataset = np.array(data) # mengubah tampilan frame pandas menjadi array numpy\n",
    "#np.set_printoptions(precision = 3, suppress = True) # menampilkan 3 digit angka dibelakang koma"
   ]
  },
  {
   "cell_type": "code",
   "execution_count": 4,
   "metadata": {},
   "outputs": [
    {
     "name": "stderr",
     "output_type": "stream",
     "text": [
      "C:\\Users\\User\\Anaconda3\\lib\\site-packages\\ipykernel_launcher.py:5: DeprecationWarning: Call to deprecated function get_sheet_by_name (Use wb[sheetname]).\n",
      "  \"\"\"\n",
      "C:\\Users\\User\\Anaconda3\\lib\\site-packages\\ipykernel_launcher.py:16: DeprecationWarning: Call to deprecated function get_sheet_by_name (Use wb[sheetname]).\n",
      "  app.launch_new_instance()\n",
      "C:\\Users\\User\\Anaconda3\\lib\\site-packages\\ipykernel_launcher.py:27: DeprecationWarning: Call to deprecated function get_sheet_by_name (Use wb[sheetname]).\n"
     ]
    }
   ],
   "source": [
    "# Load Data Peramalan\n",
    "from openpyxl import load_workbook\n",
    "\n",
    "X1=load_workbook('peramalan13.xlsx')\n",
    "X1=X1.get_sheet_by_name('peramalan_13')\n",
    "m=X1.max_row\n",
    "n=X1.max_column\n",
    "X_1=np.array(np.zeros([m,n]))\n",
    "for i in range (0,m):\n",
    "    for j in range (0,n):\n",
    "        X_1[i,j]=X1.cell(row=i+1,column=j+1).value\n",
    "\n",
    "data1=np.array(X_1) \n",
    "\n",
    "X2=load_workbook('peramalan23.xlsx')\n",
    "X2=X2.get_sheet_by_name('peramalan_23')\n",
    "m=X2.max_row\n",
    "n=X2.max_column\n",
    "X_2=np.array(np.zeros([m,n]))\n",
    "for i in range (0,m):\n",
    "    for j in range (0,n):\n",
    "        X_2[i,j]=X2.cell(row=i+1,column=j+1).value\n",
    "\n",
    "data2=np.array(X_2)\n",
    "\n",
    "X3=load_workbook('peramalan33.xlsx')\n",
    "X3=X3.get_sheet_by_name('peramalan_33')\n",
    "m=X3.max_row\n",
    "n=X3.max_column\n",
    "X_3=np.array(np.zeros([m,n]))\n",
    "for i in range (0,m):\n",
    "    for j in range (0,n):\n",
    "        X_3[i,j]=X3.cell(row=i+1,column=j+1).value\n",
    "\n",
    "data3=np.array(X_3)\n"
   ]
  },
  {
   "cell_type": "code",
   "execution_count": null,
   "metadata": {},
   "outputs": [],
   "source": []
  },
  {
   "cell_type": "code",
   "execution_count": 5,
   "metadata": {},
   "outputs": [],
   "source": [
    "data_peramalan= dataset[len(dataset)-12:len(dataset),].copy()"
   ]
  },
  {
   "cell_type": "code",
   "execution_count": 6,
   "metadata": {},
   "outputs": [
    {
     "data": {
      "text/plain": [
       "array([[ 28.09,  77.  , 183.  ,   2.  ],\n",
       "       [ 27.94,  78.  , 259.  ,   3.  ],\n",
       "       [ 28.38,  77.  , 220.  ,   3.  ],\n",
       "       [ 28.61,  77.  , 173.  ,   3.  ],\n",
       "       [ 28.76,  72.  ,  79.  ,   3.  ],\n",
       "       [ 28.02,  70.  ,  92.  ,   3.  ],\n",
       "       [ 27.73,  65.  ,  26.  ,   3.  ],\n",
       "       [ 28.02,  59.  ,   4.  ,   2.  ],\n",
       "       [ 29.13,  56.  ,  34.  ,   1.  ],\n",
       "       [ 30.39,  57.  , 106.  ,   1.  ],\n",
       "       [ 28.93,  63.  , 208.  ,   1.  ],\n",
       "       [ 28.55,  71.  , 249.  ,   1.  ]])"
      ]
     },
     "execution_count": 6,
     "metadata": {},
     "output_type": "execute_result"
    }
   ],
   "source": [
    "data_peramalan"
   ]
  },
  {
   "cell_type": "code",
   "execution_count": 7,
   "metadata": {},
   "outputs": [],
   "source": [
    "data_peramalan[:,0]=data1[:,0]\n",
    "data_peramalan[:,1]=data2[:,0]\n",
    "data_peramalan[:,2]=data3[:,0]"
   ]
  },
  {
   "cell_type": "code",
   "execution_count": 8,
   "metadata": {},
   "outputs": [
    {
     "data": {
      "text/plain": [
       "array([[ 28.89517212,  66.95263672, 133.47923279,   2.        ],\n",
       "       [ 29.10146523,  68.85414886,  83.87404633,   3.        ],\n",
       "       [ 29.07938766,  70.76222229,  94.0355072 ,   3.        ],\n",
       "       [ 28.75369644,  71.01674652,  81.34913635,   3.        ],\n",
       "       [ 28.23332024,  72.85636139,  24.57762337,   3.        ],\n",
       "       [ 28.26019096,  68.28401947,   4.40391922,   3.        ],\n",
       "       [ 28.23427963,  66.11540222,  18.92186546,   3.        ],\n",
       "       [ 29.23192406,  65.65193939, 105.56183624,   2.        ],\n",
       "       [ 28.379076  ,  66.14350128, 176.16783142,   1.        ],\n",
       "       [ 27.98853302,  64.74707794, 155.00746155,   1.        ],\n",
       "       [ 28.03698921,  67.45734406, 211.99664307,   1.        ],\n",
       "       [ 28.22960281,  68.41078186, 107.55292511,   1.        ]])"
      ]
     },
     "execution_count": 8,
     "metadata": {},
     "output_type": "execute_result"
    }
   ],
   "source": [
    "data_peramalan"
   ]
  },
  {
   "cell_type": "code",
   "execution_count": null,
   "metadata": {},
   "outputs": [],
   "source": []
  },
  {
   "cell_type": "code",
   "execution_count": 9,
   "metadata": {},
   "outputs": [],
   "source": [
    "def normalization(dataset): # fungsi normalization dg data sebagai input \n",
    "    (baris,kolom) = dataset.shape\n",
    "    mins          = np.zeros(shape = (kolom)) # inisialisasi array dataset tesis minimum\n",
    "    maxs          = np.zeros(shape = (kolom)) # initiasliasi array dataset tesis maksimum\n",
    "    for j in range (kolom):\n",
    "        mins[j] = np.min(dataset[:,j]) # mendapatkan nilai minimum setiap kolom\n",
    "        maxs[j] = np.max(dataset[:,j]) # mendapatkan nilai maksimum setiap kolom\n",
    "        \n",
    "    normalisasi = np.copy(dataset) #mendefinisikan hasil normalisasi 45x3\n",
    "    for i in range (baris):\n",
    "        for j in range (kolom):\n",
    "            normalisasi[i,j] = ((dataset[i,j]-mins[j]) / (maxs[j]-mins[j])) # hasil subtitusi ke dalam rumus normalisasi (Dubey, 2015 \n",
    "#            np.set_printoptions(precision=11, suppress=True) # menampilkan 11 digit angka dibelakang koma               \n",
    "    return (normalisasi) # display normalisasi"
   ]
  },
  {
   "cell_type": "code",
   "execution_count": 10,
   "metadata": {},
   "outputs": [
    {
     "name": "stdout",
     "output_type": "stream",
     "text": [
      "[[0.72916651 0.27197949 0.62177186 0.5       ]\n",
      " [0.8950782  0.50646533 0.3828175  1.        ]\n",
      " [0.87732227 0.74176028 0.43176652 1.        ]\n",
      " [0.61538438 0.77314705 0.37065469 1.        ]\n",
      " [0.19687066 1.         0.09717924 1.        ]\n",
      " [0.2184815  0.43615956 0.         1.        ]\n",
      " [0.19764226 0.16873553 0.06993475 1.        ]\n",
      " [1.         0.1115834  0.48729028 0.5       ]\n",
      " [0.31409506 0.17220058 0.82740815 0.        ]\n",
      " [0.         0.         0.72547602 0.        ]\n",
      " [0.038971   0.33421771 1.         0.        ]\n",
      " [0.19388092 0.45179133 0.49688161 0.        ]]\n"
     ]
    }
   ],
   "source": [
    "normalisasi = normalization(data_peramalan)\n",
    "print(normalisasi)"
   ]
  },
  {
   "cell_type": "markdown",
   "metadata": {},
   "source": [
    "# Testing"
   ]
  },
  {
   "cell_type": "code",
   "execution_count": 11,
   "metadata": {},
   "outputs": [],
   "source": [
    "def EuclideanDistance(unit, center): # fungsi Euclidean Distance dg inputs unit & center \n",
    "    baris = len(unit)\n",
    "    sum   = 0\n",
    "    for i in range(baris):\n",
    "        sum += (unit[i] - center[i]) ** 2\n",
    "    return np.sqrt(sum)\n",
    "\n",
    "def sigma(centers, p):\n",
    "    p              = len(centers)  \n",
    "    dmax          = 0\n",
    "    for i in range(p):\n",
    "        for j in range(p):\n",
    "            if i == j:\n",
    "                continue\n",
    "            dist = EuclideanDistance(centers[i], centers[j])\n",
    "            if dist > dmax:\n",
    "                dmax = dist \n",
    "    sigma = dmax / np.sqrt(2*p)\n",
    "    return sigma\n",
    "\n",
    "def gaussian(ds_training, centers, sigma):\n",
    "    return np.exp(- EuclideanDistance(ds_training, centers)**2 / (2 * sigma**2))\n",
    "\n",
    "def Approximation_yu(ds_testing, centers, sigma, phi, w_update):\n",
    "    (baris, kolom) = ds_testing.shape\n",
    "    p              = len(centers)\n",
    "    F              = np.array(np.zeros([baris,1]), dtype=np.float32)\n",
    "            \n",
    "    sum7          = 0 \n",
    "    for i in range (baris):\n",
    "        for j in range (p):\n",
    "            sum7   += phi[i,j]*w_update[j]             \n",
    "        F[i,0]       = sum7                                   \n",
    "        sum7        = 0   \n",
    "    return (F, w_update, phi)\n",
    "\n"
   ]
  },
  {
   "cell_type": "code",
   "execution_count": null,
   "metadata": {},
   "outputs": [],
   "source": []
  },
  {
   "cell_type": "code",
   "execution_count": 12,
   "metadata": {},
   "outputs": [
    {
     "name": "stderr",
     "output_type": "stream",
     "text": [
      "C:\\Users\\User\\Anaconda3\\lib\\site-packages\\ipykernel_launcher.py:5: DeprecationWarning: Call to deprecated function get_sheet_by_name (Use wb[sheetname]).\n",
      "  \"\"\"\n",
      "C:\\Users\\User\\Anaconda3\\lib\\site-packages\\ipykernel_launcher.py:16: DeprecationWarning: Call to deprecated function get_sheet_by_name (Use wb[sheetname]).\n",
      "  app.launch_new_instance()\n",
      "C:\\Users\\User\\Anaconda3\\lib\\site-packages\\ipykernel_launcher.py:27: DeprecationWarning: Call to deprecated function get_sheet_by_name (Use wb[sheetname]).\n"
     ]
    }
   ],
   "source": [
    "# Load Data Center, Phi dan W_update\n",
    "from openpyxl import load_workbook\n",
    "\n",
    "Peramalan1=load_workbook('Centers_Clusters.xlsx')\n",
    "peramalan1=Peramalan1.get_sheet_by_name('centers')\n",
    "m=peramalan1.max_row\n",
    "n=peramalan1.max_column\n",
    "peramalan_1=np.array(np.zeros([m,n]))\n",
    "for i in range (0,m):\n",
    "    for j in range (0,n):\n",
    "        peramalan_1[i,j]=peramalan1.cell(row=i+1,column=j+1).value\n",
    "\n",
    "centers=peramalan_1\n",
    "\n",
    "Peramalan2=load_workbook('Phi.xlsx')\n",
    "peramalan2=Peramalan2.get_sheet_by_name('phi')\n",
    "m=peramalan2.max_row\n",
    "n=peramalan2.max_column\n",
    "peramalan_2=np.array(np.zeros([m,n]))\n",
    "for i in range (0,m):\n",
    "    for j in range (0,n):\n",
    "        peramalan_2[i,j]=peramalan2.cell(row=i+1,column=j+1).value\n",
    "\n",
    "phi=peramalan_2\n",
    "\n",
    "Peramalan3=load_workbook('Update_Weights.xlsx')\n",
    "peramalan3=Peramalan3.get_sheet_by_name('uw')\n",
    "m=peramalan3.max_row\n",
    "n=peramalan3.max_column\n",
    "peramalan_3=np.array(np.zeros([m,n]))\n",
    "for i in range (0,m):\n",
    "    for j in range (0,n):\n",
    "        peramalan_3[i,j]=peramalan3.cell(row=i+1,column=j+1).value\n",
    "\n",
    "w_update=peramalan_3\n"
   ]
  },
  {
   "cell_type": "code",
   "execution_count": 13,
   "metadata": {},
   "outputs": [
    {
     "data": {
      "text/plain": [
       "(47, 3)"
      ]
     },
     "execution_count": 13,
     "metadata": {},
     "output_type": "execute_result"
    }
   ],
   "source": [
    "centers.shape"
   ]
  },
  {
   "cell_type": "code",
   "execution_count": 14,
   "metadata": {},
   "outputs": [
    {
     "name": "stdout",
     "output_type": "stream",
     "text": [
      "[[0.72916651 0.27197949 0.62177186]\n",
      " [0.8950782  0.50646533 0.3828175 ]\n",
      " [0.87732227 0.74176028 0.43176652]\n",
      " [0.61538438 0.77314705 0.37065469]\n",
      " [0.19687066 1.         0.09717924]\n",
      " [0.2184815  0.43615956 0.        ]\n",
      " [0.19764226 0.16873553 0.06993475]\n",
      " [1.         0.1115834  0.48729028]\n",
      " [0.31409506 0.17220058 0.82740815]\n",
      " [0.         0.         0.72547602]\n",
      " [0.038971   0.33421771 1.        ]\n",
      " [0.19388092 0.45179133 0.49688161]]\n"
     ]
    }
   ],
   "source": [
    "ds_testing=normalisasi[:,0:3]\n",
    "print(ds_testing)"
   ]
  },
  {
   "cell_type": "code",
   "execution_count": 15,
   "metadata": {},
   "outputs": [
    {
     "name": "stdout",
     "output_type": "stream",
     "text": [
      "[[1.00000000e+00 1.52022679e-08 3.20320725e-01 ... 2.80432491e-12\n",
      "  4.96092305e-08 3.91993490e-06]\n",
      " [1.52022626e-08 1.00000000e+00 5.09452502e-06 ... 7.33273282e-06\n",
      "  1.35723885e-05 4.19191338e-06]\n",
      " [3.20320785e-01 5.09452184e-06 1.00000000e+00 ... 3.38366917e-08\n",
      "  5.06116085e-05 1.25415518e-03]\n",
      " ...\n",
      " [4.96091914e-08 1.35723867e-05 5.06116339e-05 ... 2.37405658e-01\n",
      "  1.00000000e+00 5.97541571e-01]\n",
      " [3.91993399e-06 4.19191156e-06 1.25415600e-03 ... 3.41659114e-02\n",
      "  5.97541630e-01 1.00000000e+00]\n",
      " [6.89698150e-03 1.27120540e-04 1.57339245e-01 ... 1.36044458e-04\n",
      "  2.53581423e-02 1.13680571e-01]]\n"
     ]
    }
   ],
   "source": [
    "approx_y_uji = Approximation_yu(ds_testing, centers, sigma, phi, w_update)\n",
    "phi_approx_yu    = approx_y_uji[2]\n",
    "print(phi_approx_yu)"
   ]
  },
  {
   "cell_type": "code",
   "execution_count": 16,
   "metadata": {},
   "outputs": [
    {
     "data": {
      "text/plain": [
       "(48, 47)"
      ]
     },
     "execution_count": 16,
     "metadata": {},
     "output_type": "execute_result"
    }
   ],
   "source": [
    "phi_approx_yu.shape"
   ]
  },
  {
   "cell_type": "code",
   "execution_count": 17,
   "metadata": {},
   "outputs": [
    {
     "name": "stdout",
     "output_type": "stream",
     "text": [
      "[[ 4.8670721e-01]\n",
      " [ 5.0158256e-01]\n",
      " [ 6.9244766e-01]\n",
      " [ 1.0019186e+00]\n",
      " [ 9.9910867e-01]\n",
      " [ 1.0067750e+00]\n",
      " [ 4.9229860e-01]\n",
      " [ 5.7869041e-01]\n",
      " [ 3.4431526e-01]\n",
      " [-5.8203592e-04]\n",
      " [ 1.2002045e-01]\n",
      " [-5.0543588e-02]]\n"
     ]
    }
   ],
   "source": [
    "approx_y_uji = Approximation_yu(ds_testing, centers, sigma, phi, w_update)\n",
    "approx_yu    = approx_y_uji[0]\n",
    "print(approx_yu)"
   ]
  },
  {
   "cell_type": "code",
   "execution_count": 18,
   "metadata": {},
   "outputs": [],
   "source": [
    "def denormalization(day, approx_y): \n",
    "    mins = np.min(day)\n",
    "    maxs = np.max(day)\n",
    "    \n",
    "    hasil = np.copy(approx_y) #mendefinisikan hasil denormalisasi 45x3\n",
    "    for i in range (len(day)):\n",
    "        hasil[i]=mins+(approx_y[i]*(maxs-mins))              \n",
    "    return (hasil)"
   ]
  },
  {
   "cell_type": "code",
   "execution_count": 19,
   "metadata": {},
   "outputs": [
    {
     "name": "stdout",
     "output_type": "stream",
     "text": [
      "[[2.]\n",
      " [3.]\n",
      " [3.]\n",
      " [3.]\n",
      " [3.]\n",
      " [3.]\n",
      " [3.]\n",
      " [2.]\n",
      " [1.]\n",
      " [1.]\n",
      " [1.]\n",
      " [1.]]\n"
     ]
    }
   ],
   "source": [
    "dayu=np.vstack(data_peramalan[:,3])\n",
    "print(dayu)"
   ]
  },
  {
   "cell_type": "code",
   "execution_count": 20,
   "metadata": {},
   "outputs": [
    {
     "name": "stdout",
     "output_type": "stream",
     "text": [
      "[[1.9734144 ]\n",
      " [2.0031652 ]\n",
      " [2.3848953 ]\n",
      " [3.003837  ]\n",
      " [2.9982173 ]\n",
      " [3.01355   ]\n",
      " [1.9845972 ]\n",
      " [2.1573808 ]\n",
      " [1.6886306 ]\n",
      " [0.9988359 ]\n",
      " [1.2400409 ]\n",
      " [0.89891285]]\n"
     ]
    }
   ],
   "source": [
    "denormalize_ayu = denormalization(dayu, approx_yu) #menampilkan hasil dari fungsi denormalization  \n",
    "print(denormalize_ayu)"
   ]
  },
  {
   "cell_type": "code",
   "execution_count": 21,
   "metadata": {},
   "outputs": [],
   "source": [
    "def MAPE(dayu, denormalize_ayu):\n",
    "    mapeRBF = np.array(np.zeros([1,1]), dtype=np.float32)\n",
    "    mapeRBF = np.mean(np.absolute(dayu - denormalize_ayu)/dayu) * 100\n",
    "    \n",
    "    return(mapeRBF)"
   ]
  },
  {
   "cell_type": "code",
   "execution_count": 22,
   "metadata": {},
   "outputs": [
    {
     "name": "stdout",
     "output_type": "stream",
     "text": [
      "16.708971560001373\n"
     ]
    }
   ],
   "source": [
    "mape_RBF = MAPE(dayu, denormalize_ayu)\n",
    "print(mape_RBF)"
   ]
  },
  {
   "cell_type": "code",
   "execution_count": 23,
   "metadata": {},
   "outputs": [
    {
     "name": "stdout",
     "output_type": "stream",
     "text": [
      "[[2.         1.97341442]\n",
      " [3.         2.00316525]\n",
      " [3.         2.38489532]\n",
      " [3.         3.00383711]\n",
      " [3.         2.99821734]\n",
      " [3.         3.01355004]\n",
      " [3.         1.98459721]\n",
      " [2.         2.15738082]\n",
      " [1.         1.68863058]\n",
      " [1.         0.99883592]\n",
      " [1.         1.2400409 ]\n",
      " [1.         0.89891285]]\n"
     ]
    }
   ],
   "source": [
    "m  = len(dayu)\n",
    "gabung   = np.array(np.zeros([m,2]))\n",
    "gabung[:,0]= dayu[:,0]\n",
    "gabung[:,1]= denormalize_ayu[:,0]\n",
    "print(gabung)"
   ]
  },
  {
   "cell_type": "code",
   "execution_count": 24,
   "metadata": {},
   "outputs": [
    {
     "data": {
      "text/plain": [
       "array([[1.32927895e+00],\n",
       "       [3.32278252e+01],\n",
       "       [2.05034892e+01],\n",
       "       [1.27903620e-01],\n",
       "       [5.94218572e-02],\n",
       "       [4.51668104e-01],\n",
       "       [3.38467598e+01],\n",
       "       [7.86904097e+00],\n",
       "       [6.88630581e+01],\n",
       "       [1.16407871e-01],\n",
       "       [2.40040898e+01],\n",
       "       [1.01087153e+01]])"
      ]
     },
     "execution_count": 24,
     "metadata": {},
     "output_type": "execute_result"
    }
   ],
   "source": [
    "(np.absolute(dayu - denormalize_ayu)/dayu)*100"
   ]
  },
  {
   "cell_type": "code",
   "execution_count": 25,
   "metadata": {},
   "outputs": [
    {
     "data": {
      "text/plain": [
       "<Figure size 640x480 with 1 Axes>"
      ]
     },
     "metadata": {},
     "output_type": "display_data"
    }
   ],
   "source": [
    "import matplotlib.pyplot  as plt\n",
    "x = np.linspace(0, 12, num=14)\n",
    "\n",
    "plt.plot(dayu, '-', color ='b', label='Original')\n",
    "plt.plot(denormalize_ayu, 'k*-', color ='k', label='Forecasting')\n",
    "\n",
    "plt.xlabel('Index in Month-Year')\n",
    "plt.ylabel('Classification of Vannamei Shrimp Production')\n",
    "\n",
    "plt.title('Testing Plot of Vannamei Shrimp Production')\n",
    "\n",
    "plt.legend()\n",
    "\n",
    "plt.xlim([0, 12])\n",
    "plt.ylim([0.5, 5])\n",
    "\n",
    "plt.show()"
   ]
  },
  {
   "cell_type": "code",
   "execution_count": null,
   "metadata": {},
   "outputs": [],
   "source": []
  },
  {
   "cell_type": "code",
   "execution_count": null,
   "metadata": {},
   "outputs": [],
   "source": []
  }
 ],
 "metadata": {
  "kernelspec": {
   "display_name": "Python 3",
   "language": "python",
   "name": "python3"
  },
  "language_info": {
   "codemirror_mode": {
    "name": "ipython",
    "version": 3
   },
   "file_extension": ".py",
   "mimetype": "text/x-python",
   "name": "python",
   "nbconvert_exporter": "python",
   "pygments_lexer": "ipython3",
   "version": "3.7.3"
  }
 },
 "nbformat": 4,
 "nbformat_minor": 2
}
